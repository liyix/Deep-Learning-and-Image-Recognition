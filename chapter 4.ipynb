{
 "cells": [
  {
   "cell_type": "code",
   "execution_count": 60,
   "metadata": {},
   "outputs": [
    {
     "data": {
      "image/png": "[encoded data removed]",
      "text/plain": [
       "<Figure size 432x288 with 1 Axes>"
      ]
     },
     "metadata": {
      "needs_background": "light"
     },
     "output_type": "display_data"
    }
   ],
   "source": [
    "#p53 一元线性回归\n",
    "import numpy as np\n",
    "import matplotlib.pyplot as plt\n",
    "\n",
    "if __name__=='__main__':\n",
    "    x = np.array([1,2,4,6,8])\n",
    "    y = np.array([2,5,7,8,9])\n",
    "    x_mean = np.mean(x)\n",
    "    y_mean = np.mean(y)\n",
    "    denominator = 0.0\n",
    "    numerator = 0.0\n",
    "    for x_i,y_i in zip(x,y):\n",
    "        numerator += (x_i-x_mean)*(y_i - y_mean)\n",
    "        denominator += (x_i - x_mean) **2\n",
    "    a = numerator/denominator\n",
    "    b = y_mean - a * x_mean\n",
    "    y_predict = a * x + b\n",
    "    plt.scatter(x,y,color='b')\n",
    "    plt.plot(x,y_predict,color='r')\n",
    "    plt.xlabel('管子的长度',fontproperties='simHei',fontsize = 15)\n",
    "    plt.ylabel('收费',fontproperties='simHei',fontsize = 15)\n",
    "    plt.show()\n",
    "        \n",
    "    "
   ]
  },
  {
   "cell_type": "code",
   "execution_count": 63,
   "metadata": {},
   "outputs": [],
   "source": [
    "#p57 多元线性回归\n",
    "import numpy as np\n",
    "from numpy import linalg\n",
    "\n",
    "class MLinearRegression:\n",
    "    def __init__(self):\n",
    "        self.coef_ = None  #代表的是权重\n",
    "        self.interception_ = None #代表的是截距\n",
    "        self._theta = None #代表的是权重+截距\n",
    "\n",
    "    '''\n",
    "    规范下代码，X_train代表的是矩阵X大写，y_train代表的是向量y小写\n",
    "    '''\n",
    "    def fit(self,X_train, y_train):\n",
    "        assert X_train.shape[0] == y_train.shape[0], \\\n",
    "        \"训练集的矩阵行数与标签的行数保持一致\"\n",
    "        ones = np.ones((X_train.shape[0], 1))\n",
    "        X_b = np.hstack((ones, X_train))  # 将X矩阵转为第一列为1，其余不变的X_b矩阵\n",
    "        self._theta = linalg.inv(X_b.T.dot(X_b)).dot(X_b.T).dot(y_train)\n",
    "        self.interception_ = self._theta[0]\n",
    "        self.coef_ = self._theta[1:]\n",
    "\n",
    "        return self\n",
    "\n",
    "    def predict(self,X_predict):\n",
    "        ones = np.ones((X_predict.shape[0], 1))\n",
    "        X_b = np.hstack((ones, X_predict))  # 将X矩阵转为第一列为1，其余不变的X_b矩阵\n",
    "        return X_b.dot(self._theta) #得到的就是预测值\n",
    "\n",
    "    def mean_squared_error(self, y_true, y_predict):\n",
    "        return np.sum((y_true - y_predict) ** 2) / len(y_true)\n",
    "\n",
    "    def score(self,X_test,y_test): #使用r square\n",
    "        y_predict = self.predict(X_test)\n",
    "        return 1 - (self.mean_squared_error(y_test,y_predict) / (np.var(y_test)))\n",
    "\n",
    "\n"
   ]
  },
  {
   "cell_type": "code",
   "execution_count": 3,
   "metadata": {},
   "outputs": [
    {
     "data": {
      "image/png": "[encoded data removed]",
      "text/plain": [
       "<Figure size 432x288 with 1 Axes>"
      ]
     },
     "metadata": {
      "needs_background": "light"
     },
     "output_type": "display_data"
    }
   ],
   "source": [
    "#图4-12出错\n",
    "import numpy as np\n",
    "import matplotlib.pyplot as plt\n",
    "\n",
    "\n",
    "def logp2(x):\n",
    "    y = -np.log(1-x)\n",
    "    return y\n",
    "\n",
    "plot_x = np.linspace(0,0.99,50)\n",
    "plot_y = logp2(plot_x)\n",
    "plt.plot(plot_x,plot_y)\n",
    "plt.show()\n",
    "    "
   ]
  },
  {
   "cell_type": "code",
   "execution_count": 45,
   "metadata": {},
   "outputs": [],
   "source": [
    "#p67 逻辑回归\n",
    "import numpy as np\n",
    "\n",
    "\n",
    "class LogisticRegressionSelf:\n",
    "\n",
    "    def __init__(self):\n",
    "        \"\"\"初始化Logistic regression模型\"\"\"\n",
    "        self.coef_ = None #维度\n",
    "        self.intercept_ = None #截距\n",
    "        self._theta = None\n",
    "\n",
    "    #sigmoid函数，私有化函数\n",
    "    def _sigmoid(self,x):\n",
    "        y = 1.0 / (1.0 + np.exp(-x))\n",
    "        return y\n",
    "\n",
    "    def fit(self,X_train,y_train,eta=0.01,n_iters=1e4):\n",
    "        assert X_train.shape[0] == y_train.shape[0], '训练数据集的长度需要和标签长度保持一致'\n",
    "\n",
    "        #计算损失函数\n",
    "        def J(theta,X_b,y):\n",
    "            p_predcit = self._sigmoid(X_b.dot(theta))\n",
    "            try:\n",
    "                return -np.sum(y*np.log(p_predcit) + (1-y)*np.log(1-p_predcit)) / len(y)\n",
    "            except:\n",
    "                return float('inf')\n",
    "\n",
    "        #求sigmoid梯度的导数\n",
    "        def dJ(theta,X_b,y):\n",
    "            x = self._sigmoid(X_b.dot(theta))\n",
    "            return X_b.T.dot(x-y)/len(X_b)\n",
    "\n",
    "        #模拟梯度下降\n",
    "        def gradient_descent(X_b,y,initial_theta,eta,n_iters=1e4,epsilon=1e-8):\n",
    "            theta = initial_theta\n",
    "            i_iter = 0\n",
    "            while i_iter < n_iters:\n",
    "                gradient = dJ(theta,X_b,y)\n",
    "                last_theta = theta\n",
    "                theta = theta - eta * gradient\n",
    "                i_iter += 1\n",
    "                if (abs(J(theta,X_b,y) - J(last_theta,X_b,y)) < epsilon):\n",
    "                    break\n",
    "            return theta\n",
    "\n",
    "        X_b = X_train\n",
    "        initial_theta = np.zeros(X_b.shape[1]) #列向量\n",
    "        self._theta = gradient_descent(X_b,y_train,initial_theta,eta,n_iters)\n",
    "        self.intercept_ = self._theta[0] #截距\n",
    "        self.coef_ = self._theta[1:] #维度\n",
    "        return self\n",
    "\n",
    "\n",
    "    def predict_proba(self,X_predict):\n",
    "        X_b = X_predict\n",
    "        return self._sigmoid(X_b.dot(self._theta))\n",
    "\n",
    "\n",
    "    def predict(self,X_predict):\n",
    "        proba = self.predict_proba(X_predict)\n",
    "        return np.array(proba > 0.5,dtype='int')\n"
   ]
  },
  {
   "cell_type": "code",
   "execution_count": 62,
   "metadata": {},
   "outputs": [
    {
     "name": "stdout",
     "output_type": "stream",
     "text": [
      "0\n"
     ]
    }
   ],
   "source": [
    "if __name__=='__main__':\n",
    "    \n",
    "    emp = LogisticRegressionSelf()\n",
    "\n",
    "    filename='D:/123.txt' #训练集目录\n",
    "    def loadDataSet():   #读取数据（这里只有两个特征）\n",
    "        dataMat = []\n",
    "        labelMat = []\n",
    "        fr = open(filename)\n",
    "        for line in fr.readlines():\n",
    "            lineArr = line.strip().split()\n",
    "            dataMat.append([1,float(lineArr[0]), float(lineArr[1])])   \n",
    "            labelMat.append(int(lineArr[2]))\n",
    "        return dataMat,labelMat\n",
    "    x,y=loadDataSet()\n",
    "    X=np.array(x)\n",
    "    Y=np.array(y)\n",
    "    emp.fit(X,Y)\n",
    "    P=np.array([1.0,0,12])\n",
    "    print(emp.predict(P))"
   ]
  },
  {
   "cell_type": "code",
   "execution_count": null,
   "metadata": {},
   "outputs": [],
   "source": []
  }
 ],
 "metadata": {
  "kernelspec": {
   "display_name": "Python 3",
   "language": "python",
   "name": "python3"
  },
  "language_info": {
   "codemirror_mode": {
    "name": "ipython",
    "version": 3
   },
   "file_extension": ".py",
   "mimetype": "text/x-python",
   "name": "python",
   "nbconvert_exporter": "python",
   "pygments_lexer": "ipython3",
   "version": "3.8.3"
  }
 },
 "nbformat": 4,
 "nbformat_minor": 4
}
